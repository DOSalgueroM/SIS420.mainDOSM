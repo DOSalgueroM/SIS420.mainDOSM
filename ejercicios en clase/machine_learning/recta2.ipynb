{
 "cells": [
  {
   "cell_type": "code",
   "execution_count": 5,
   "metadata": {},
   "outputs": [
    {
     "name": "stdout",
     "output_type": "stream",
     "text": [
      "Los mejores coeficientes en la ecuacion de la recta, para x = 150 son: para a: 99 y para b: 99\n",
      "Los mejores coeficientes en la ecuacion de la recta, para x = 300 son: para a: 99 y para b: 99\n",
      "Los mejores coeficientes en la ecuacion de la recta, para x = 250 son: para a: 99 y para b: 99\n",
      "Los mejores coeficientes en la ecuacion de la recta, para x = 200 son: para a: 99 y para b: 99\n",
      "Los mejores coeficientes en la ecuacion de la recta, para x = 180 son: para a: 99 y para b: 99\n",
      "Los mejores coeficientes en la ecuacion de la recta, para x = 500 son: para a: 99 y para b: 99\n",
      "Los mejores coeficientes en la ecuacion de la recta, para x = 390 son: para a: 99 y para b: 99\n",
      "Los mejores coeficientes en la ecuacion de la recta, para x = 250 son: para a: 99 y para b: 99\n",
      "Los mejores coeficientes en la ecuacion de la recta, para x = 230 son: para a: 99 y para b: 99\n",
      "Los mejores coeficientes en la ecuacion de la recta, para x = 190 son: para a: 99 y para b: 99\n",
      "Los mejores coeficientes en la ecuacion de la recta, para x = 410 son: para a: 99 y para b: 99\n",
      "Los mejores coeficientes en la ecuacion de la recta, para x = 450 son: para a: 99 y para b: 99\n",
      "Los mejores coeficientes en la ecuacion de la recta, para x = 125 son: para a: 99 y para b: 99\n",
      "Los mejores coeficientes en la ecuacion de la recta, para x = 350 son: para a: 99 y para b: 99\n",
      "Los mejores coeficientes en la ecuacion de la recta, para x = 310 son: para a: 99 y para b: 99\n",
      "Los mejores coeficientes en la ecuacion de la recta, para x = 470 son: para a: 99 y para b: 99\n",
      "Los mejores coeficientes en la ecuacion de la recta, para x = 280 son: para a: 99 y para b: 99\n",
      "Los mejores coeficientes en la ecuacion de la recta, para x = 100 son: para a: 99 y para b: 99\n",
      "Los mejores coeficientes en la ecuacion de la recta, para x = 420 son: para a: 99 y para b: 99\n",
      "Los mejores coeficientes en la ecuacion de la recta, para x = 400 son: para a: 99 y para b: 99\n",
      "[4.95, 4.95, 4.95, 4.95, 4.95, 4.95, 4.95, 4.95, 4.95, 4.95, 4.95, 4.95, 4.95, 4.95, 4.95, 4.95, 4.95, 4.95, 4.95, 4.95] [4.95, 4.95, 4.95, 4.95, 4.95, 4.95, 4.95, 4.95, 4.95, 4.95, 4.95, 4.95, 4.95, 4.95, 4.95, 4.95, 4.95, 4.95, 4.95, 4.95]\n",
      "99 99\n"
     ]
    }
   ],
   "source": [
    "from math import inf as infinity\n",
    "precios = [75000, 190000, 210000, 110000, 130000, 450000, 290000, 150000, 160000, 135000, 350000, 375000, 55000, 275000, 250000, 410000, 175000, 30000, 355000, 330000]\n",
    "superficies = [150, 300, 250, 200, 180, 500, 390, 250, 230, 190, 410, 450, 125, 350, 310, 470, 280, 100, 420, 400]\n",
    "\n",
    "cohe_a = []\n",
    "cohe_b = []\n",
    "# sum = 0\n",
    "# sum2 = 0\n",
    "for ix,x in enumerate(superficies):\n",
    "    mejor_diferencia = infinity\n",
    "    mejor_a = 0\n",
    "    mejor_b = 0\n",
    "    for a in range(-1000, 100):\n",
    "        for b in range(-1000, 100):\n",
    "            y_hat = a + b*x\n",
    "            diferencia = abs(y_hat - precios[ix])\n",
    "            if diferencia < mejor_diferencia:\n",
    "                mejor_diferencia = diferencia\n",
    "                mejor_a = a\n",
    "                mejor_b = b\n",
    "    print(f\"Los mejores coeficientes en la ecuacion de la recta, para x = {x} son: para a: {mejor_a} y para b: {mejor_b}\")\n",
    "    cohe_a.append(mejor_a)\n",
    "    cohe_b.append(mejor_b)\n",
    "\n",
    "promedio_a = [ca / len(cohe_a) for ca in cohe_a]\n",
    "promedio_b = [cb / len(cohe_b) for cb in cohe_b]\n",
    "\n",
    "print(promedio_a, promedio_b)\n",
    "print(a,b)\n",
    "# for i in range(0, len(cohe_a)):\n",
    "#     sum += cohe_a[i]\n",
    "# promedio1= sum/len(cohe_a)\n",
    "# print(promedio1)\n",
    "# for j in range(0, len(cohe_b)):\n",
    "#     sum2 += cohe_b[j]\n",
    "# promedio2= sum/len(cohe_b)\n",
    "# print(promedio2)\n",
    "\n"
   ]
  }
 ],
 "metadata": {
  "kernelspec": {
   "display_name": "Python 3",
   "language": "python",
   "name": "python3"
  },
  "language_info": {
   "codemirror_mode": {
    "name": "ipython",
    "version": 3
   },
   "file_extension": ".py",
   "mimetype": "text/x-python",
   "name": "python",
   "nbconvert_exporter": "python",
   "pygments_lexer": "ipython3",
   "version": "3.10.9"
  },
  "orig_nbformat": 4
 },
 "nbformat": 4,
 "nbformat_minor": 2
}
