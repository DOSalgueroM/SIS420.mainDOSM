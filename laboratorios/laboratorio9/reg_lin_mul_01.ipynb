{
  "cells": [
    {
      "attachments": {},
      "cell_type": "markdown",
      "metadata": {
        "id": "fxYd72KmVn8x"
      },
      "source": [
        "# Ejercicio de programación Regresión Lineal Multiple"
      ]
    },
    {
      "cell_type": "code",
      "execution_count": 16,
      "metadata": {
        "id": "-NQwq_hsVn80"
      },
      "outputs": [],
      "source": [
        "# utilizado para manejos de directorios y rutas\n",
        "import os\n",
        "\n",
        "# Computacion vectorial y cientifica para python\n",
        "import numpy as np\n",
        "\n",
        "# Librerias para graficación (trazado de gráficos)\n",
        "from matplotlib import pyplot\n",
        "from mpl_toolkits.mplot3d import Axes3D  # Necesario para graficar superficies 3D\n",
        "\n",
        "# llama a matplotlib a embeber graficas dentro de los cuadernillos\n",
        "%matplotlib inline"
      ]
    },
    {
      "attachments": {},
      "cell_type": "markdown",
      "metadata": {
        "id": "dl4y9LL2Vn81"
      },
      "source": [
        "## 2 Regresión lineal con multiples variables\n",
        "\n",
        "Se implementa la regresion lineal multivariable para predecir el precio de las casas. El archivo `Datasets/ex1data2.txt` contiene un conjunto de entrenamiento de precios de casas en Portland, Oregon. La primera columna es el tamaño de la casa en metros cuadrados, la segunda columna es el numero de cuartos, y la tercera columna es el precio de la casa. \n",
        "\n",
        "<a id=\"section4\"></a>\n",
        "### 2.1 Normalización de caracteristicas\n",
        "\n",
        "Al visualizar los datos se puede observar que las caracteristicas tienen diferentes magnitudes, por lo cual se debe transformar cada valor en una escala de valores similares, esto con el fin de que el descenso por el gradiente pueda converger mas rapidamente."
      ]
    },
    {
      "cell_type": "code",
      "execution_count": 17,
      "metadata": {},
      "outputs": [],
      "source": [
        "import pandas as pd"
      ]
    },
    {
      "cell_type": "code",
      "execution_count": 18,
      "metadata": {},
      "outputs": [
        {
          "name": "stdout",
          "output_type": "stream",
          "text": [
            "   model  year  price  transmission  mileage  fuelType  tax   mpg  engineSize\n",
            "0      0  2017  12000             0    15944         0  150  57.7         1.0\n",
            "1      1  2018  14000             1     9083         0  150  57.7         1.0\n",
            "2      1  2017  13000             1    12456         0  150  57.7         1.0\n",
            "3      0  2019  17500             1    10460         0  145  40.3         1.5\n",
            "4      0  2019  16500             0     1482         0  145  48.7         1.0\n"
          ]
        }
      ],
      "source": [
        "def csvAdapted(dataset, modifyColumns, dropColumns):\n",
        "    data = pd.read_csv(dataset, encoding='latin-1')\n",
        "    columns = data.columns\n",
        "    \n",
        "    for index in modifyColumns:\n",
        "        name = columns[index]\n",
        "        value = list( data[name].unique() )\n",
        "        data[name] = data[name].map( dict( zip( value,  [i for i in range( len(value) ) ] ) ) )\n",
        "\n",
        "    data = data.drop([columns[index] for index in dropColumns ], axis=1)\n",
        "\n",
        "    print(data.head())\n",
        "\n",
        "    return data.to_numpy()\n",
        "\n",
        "data = csvAdapted(\"ford.csv\", [i for i in range(0, 8) if not i in [1, 2, 4, 6, 7, 8] ], [])"
      ]
    },
    {
      "cell_type": "code",
      "execution_count": 19,
      "metadata": {
        "colab": {
          "base_uri": "https://localhost:8080/"
        },
        "id": "IzvXlXHMVn81",
        "outputId": "437c6a2a-a799-4737-95ef-a322d277a217"
      },
      "outputs": [],
      "source": [
        "# Cargar datos\n",
        "# data = np.loadtxt(os.path.join('Datasets', 'ex1data2.txt'), delimiter=',')\n",
        "#data = np.loadtxt('./ex1data2.txt', delimiter=',')\n",
        "X = data[:, [0,1,3,4,5,6,7,8]]\n",
        "y = data[:, 2]\n",
        "m = y.size\n",
        "\n",
        "# imprimir algunos puntos de datos\n",
        "# print('{:>8s}{:>8s}{:>10s}'.format('X[:,0]', 'X[:, 1]', 'y'))\n",
        "# print('-'*26)\n",
        "# for i in range(10):\n",
        "#     print('{:8.0f}{:8.0f}{:10.0f}'.format(X[i, 0], X[i, 1], y[i]))"
      ]
    },
    {
      "attachments": {},
      "cell_type": "markdown",
      "metadata": {
        "id": "pP-oF-Y8W3zp"
      },
      "source": [
        "## 2 Regresión lineal con multiples variables\n",
        "\n",
        "Se implementa la regresion lineal multivariable para predecir el precio de las casas. El archivo `Datasets/ex1data2.txt` contiene un conjunto de entrenamiento de precios de casas en Portland, Oregon. La primera columna es el tamaño de la casa en metros cuadrados, la segunda columna es el numero de cuartos, y la tercera columna es el precio de la casa. \n",
        "\n",
        "<a id=\"section4\"></a>\n",
        "### 2.1 Normalización de caracteristicas\n",
        "\n",
        "Al visualizar los datos se puede observar que las caracteristicas tienen diferentes magnitudes, por lo cual se debe transformar cada valor en una escala de valores similares, esto con el fin de que el descenso por el gradiente pueda converger mas rapidamente."
      ]
    },
    {
      "attachments": {},
      "cell_type": "markdown",
      "metadata": {
        "id": "Lr8JRNkyVn82"
      },
      "source": [
        "La desviación estándar es una forma de medir cuánta variación hay en el rango de valores de una característica en particular (la mayoría de los puntos caeran en un rango de ± 2 en relación a la desviaciones estándar de la media); esta es una alternativa a tomar el rango de valores (max-min). En `numpy`, se puede usar la función `std` para calcular la desviacion estandar. \n",
        "\n",
        "Por ejemplo, la caracteristica`X[:, 0]` contiene todos los valores de $x_1$ (tamaño de las casas) en el conjunto de entrenamiento, entonces `np.std(X[:, 0])` calcula la desviacion estandar de los tamaños de las casas.\n",
        "En el momento en que se llama a la función `featureNormalize`, la columna adicional de unos correspondiente a $ x_0 = 1 $ aún no se ha agregado a $ X $. \n",
        "\n",
        "<div class=\"alert alert-block alert-warning\">\n",
        "**Notas para la implementación:** Cuando se normalize una caracteristica, es importante almacenar los valores usados para la normalización - el valor de la media y el valor de la desviación estandar usado para los calculos. Despues de aprender los parametros del modelo, se deseara predecir los precios de casas que no se han visto antes. Dado un nuevo valor de x (area del living room y el numero de dormitorios), primero se debe normalizar x usando la media y la desviacion estandar que se empleo anteriormente en el conjunto de entrenamiento para entrenar el modelo.\n",
        "</div>\n",
        "<a id=\"featureNormalize\"></a>"
      ]
    },
    {
      "cell_type": "code",
      "execution_count": 20,
      "metadata": {
        "id": "dgT4rR9iVn82"
      },
      "outputs": [],
      "source": [
        "def  featureNormalize(X):\n",
        "    X_norm = X.copy()\n",
        "    mu = np.zeros(X.shape[1])\n",
        "    sigma = np.zeros(X.shape[1])\n",
        "\n",
        "    mu = np.mean(X, axis = 0)\n",
        "    sigma = np.std(X, axis = 0)\n",
        "    X_norm = (X - mu) / sigma\n",
        "    \n",
        "    return X_norm, mu, sigma"
      ]
    },
    {
      "cell_type": "code",
      "execution_count": 21,
      "metadata": {
        "colab": {
          "base_uri": "https://localhost:8080/"
        },
        "id": "MfiaMoWEVn82",
        "outputId": "6b209ab7-7e33-4b04-ecfc-6efcef9d9bf1"
      },
      "outputs": [
        {
          "name": "stdout",
          "output_type": "stream",
          "text": [
            "[[0.000e+00 2.017e+03 0.000e+00 ... 1.500e+02 5.770e+01 1.000e+00]\n",
            " [1.000e+00 2.018e+03 1.000e+00 ... 1.500e+02 5.770e+01 1.000e+00]\n",
            " [1.000e+00 2.017e+03 1.000e+00 ... 1.500e+02 5.770e+01 1.000e+00]\n",
            " ...\n",
            " [1.000e+00 2.015e+03 1.000e+00 ... 2.000e+01 6.730e+01 1.600e+00]\n",
            " [1.400e+01 2.018e+03 1.000e+00 ... 1.450e+02 5.770e+01 1.200e+00]\n",
            " [2.300e+01 2.015e+03 1.000e+00 ... 2.200e+01 5.770e+01 1.000e+00]]\n",
            "Media calculada: [2.60369587e+00 2.01686647e+03 9.84748970e-01 2.33626088e+04\n",
            " 3.23722587e-01 1.13329456e+02 5.79069799e+01 1.35080708e+00]\n",
            "Desviación estandar calculada: [3.69474441e+00 2.05027892e+00 3.68815375e-01 1.94715124e+04\n",
            " 4.71922876e-01 6.20107303e+01 1.01254139e+01 4.32355239e-01]\n",
            "[[-0.70470257  0.06512772 -2.67003231 ...  0.59135805 -0.02044162\n",
            "  -0.81138621]\n",
            " [-0.43404785  0.55286624  0.04135139 ...  0.59135805 -0.02044162\n",
            "  -0.81138621]\n",
            " [-0.43404785  0.06512772  0.04135139 ...  0.59135805 -0.02044162\n",
            "  -0.81138621]\n",
            " ...\n",
            " [-0.43404785 -0.91034931  0.04135139 ... -1.50505332  0.92766777\n",
            "   0.57636151]\n",
            " [ 3.08446346  0.55286624  0.04135139 ...  0.51072684 -0.02044162\n",
            "  -0.34880364]\n",
            " [ 5.5203559  -0.91034931  0.04135139 ... -1.47280084 -0.02044162\n",
            "  -0.81138621]]\n"
          ]
        }
      ],
      "source": [
        "# llama featureNormalize con los datos cargados\n",
        "X_norm, mu, sigma = featureNormalize(X)\n",
        "\n",
        "print(X)\n",
        "print('Media calculada:', mu)\n",
        "print('Desviación estandar calculada:', sigma)\n",
        "print(X_norm)"
      ]
    },
    {
      "attachments": {},
      "cell_type": "markdown",
      "metadata": {
        "id": "pDbib1JVVn82"
      },
      "source": [
        "Despues de `featureNormalize` la funcion es provada, se añade el temino de interseccion a `X_norm`:"
      ]
    },
    {
      "cell_type": "code",
      "execution_count": 22,
      "metadata": {
        "id": "qXpGaaD0Vn83"
      },
      "outputs": [],
      "source": [
        "# Añade el termino de interseccion a X\n",
        "# (Columna de unos para X0)\n",
        "X = np.concatenate([np.ones((m, 1)), X_norm], axis=1)"
      ]
    },
    {
      "cell_type": "code",
      "execution_count": 23,
      "metadata": {
        "colab": {
          "base_uri": "https://localhost:8080/"
        },
        "id": "Pzz24OdaVn83",
        "outputId": "b0b48ef2-c6e9-47f6-df19-3df239aacf49"
      },
      "outputs": [
        {
          "name": "stdout",
          "output_type": "stream",
          "text": [
            "[[ 1.         -0.70470257  0.06512772 ...  0.59135805 -0.02044162\n",
            "  -0.81138621]\n",
            " [ 1.         -0.43404785  0.55286624 ...  0.59135805 -0.02044162\n",
            "  -0.81138621]\n",
            " [ 1.         -0.43404785  0.06512772 ...  0.59135805 -0.02044162\n",
            "  -0.81138621]\n",
            " ...\n",
            " [ 1.         -0.43404785 -0.91034931 ... -1.50505332  0.92766777\n",
            "   0.57636151]\n",
            " [ 1.          3.08446346  0.55286624 ...  0.51072684 -0.02044162\n",
            "  -0.34880364]\n",
            " [ 1.          5.5203559  -0.91034931 ... -1.47280084 -0.02044162\n",
            "  -0.81138621]]\n"
          ]
        }
      ],
      "source": [
        "print(X)"
      ]
    },
    {
      "attachments": {},
      "cell_type": "markdown",
      "metadata": {
        "id": "V54HlIKAVn83"
      },
      "source": [
        "<a id=\"section5\"></a>\n",
        "### 2.2 Descenso por el gradiente\n",
        "\n",
        "En el ejemplo anterior se implemento el descenso por el gradiente para un problema de regresion univariable. La unica diferencia es que ahora existe una caracteristica adicional en la matriz $X$. La función de hipótesis y la regla de actualización del descenso del gradiente por lotes permanecen sin cambios.\n",
        "\n",
        "La implementacion de las funciones `computeCostMulti` y `gradientDescentMulti` son similares a la funcion de costo y función de descenso por el gradiente de la regresión lineal multiple es similar al de la regresion lineal multivariable. Es importante garantizar que el codigo soporte cualquier numero de caracteristicas y esten bien vectorizadas.\n",
        "\n",
        "Se puede utilizar `shape`, propiedad de los arrays `numpy`, para identificar cuantas caracteristicas estan consideradas en el dataset.\n",
        "\n",
        "<div class=\"alert alert-block alert-warning\">\n",
        "**Nota de implementación:** En el caso de multivariables, la función de costo puede se escrita considerando la forma vectorizada de la siguiente manera:\n",
        "\n",
        "$$ J(\\theta) = \\frac{1}{2m}(X\\theta - \\vec{y})^T(X\\theta - \\vec{y}) $$\n",
        "\n",
        "donde:\n",
        "\n",
        "$$ X = \\begin{pmatrix}\n",
        "          - (x^{(1)})^T - \\\\\n",
        "          - (x^{(2)})^T - \\\\\n",
        "          \\vdots \\\\\n",
        "          - (x^{(m)})^T - \\\\ \\\\\n",
        "        \\end{pmatrix} \\qquad \\mathbf{y} = \\begin{bmatrix} y^{(1)} \\\\ y^{(2)} \\\\ \\vdots \\\\ y^{(m)} \\\\\\end{bmatrix}$$\n",
        "\n",
        "La version vectorizada es eficiente cuando se trabaja con herramientas de calculo numericos computacional como `numpy`. \n",
        "</div>\n",
        "\n",
        "<a id=\"computeCostMulti\"></a>"
      ]
    },
    {
      "cell_type": "code",
      "execution_count": 24,
      "metadata": {
        "id": "R5xCTuCUVn83"
      },
      "outputs": [],
      "source": [
        "def computeCostMulti(X, y, theta):\n",
        "    # Inicializa algunos valores utiles\n",
        "    m = y.shape[0] # numero de ejemplos de entrenamiento\n",
        "    \n",
        "    J = 0\n",
        "    \n",
        "    h = np.dot(X, theta)\n",
        "    \n",
        "    J = (1/(2 * m)) * np.sum(np.square(np.dot(X, theta) - y))\n",
        "    \n",
        "    return J\n"
      ]
    },
    {
      "cell_type": "code",
      "execution_count": 25,
      "metadata": {
        "id": "1FbQyFHtVn83"
      },
      "outputs": [],
      "source": [
        "def gradientDescentMulti(X, y, theta, alpha, num_iters):\n",
        "    \n",
        "    # Inicializa algunos valores \n",
        "    m = y.shape[0] # numero de ejemplos de entrenamiento\n",
        "    \n",
        "    # realiza una copia de theta, el cual será acutalizada por el descenso por el gradiente\n",
        "    theta = theta.copy()\n",
        "    \n",
        "    J_history = []\n",
        "    \n",
        "    for i in range(num_iters):\n",
        "        theta = theta - (alpha / m) * (np.dot(X, theta) - y).dot(X)\n",
        "        J_history.append(computeCostMulti(X, y, theta))\n",
        "    \n",
        "    return theta, J_history"
      ]
    },
    {
      "attachments": {},
      "cell_type": "markdown",
      "metadata": {
        "id": "dJ2VxNfaVn83"
      },
      "source": [
        "#### 3.2.1 Seleccionando coheficientes de aprendizaje\n"
      ]
    },
    {
      "cell_type": "code",
      "execution_count": 26,
      "metadata": {
        "colab": {
          "base_uri": "https://localhost:8080/",
          "height": 500
        },
        "id": "K4gVCgsfVn84",
        "outputId": "fb1164ee-0e3c-45eb-ad9a-e606a6012e1e"
      },
      "outputs": [
        {
          "name": "stdout",
          "output_type": "stream",
          "text": [
            "theta calculado por el descenso por el gradiente: [12279.53484359   -80.43211489  2399.76829341   -92.59150371\n",
            " -1217.12893524   803.97384094    71.48658449 -1219.71462679\n",
            "  1720.97512852]\n",
            "El precio predecido para un auto modelo 2017 (usando el descenso por el gradiente): $11323\n",
            "el mejor alpha es: 0.5\n",
            "el numero de iteraciones necesarias es: 200\n"
          ]
        },
        {
          "data": {
            "image/png": "[encoded data removed]",
            "text/plain": [
              "<Figure size 640x480 with 1 Axes>"
            ]
          },
          "metadata": {},
          "output_type": "display_data"
        }
      ],
      "source": [
        "# Elegir algun valor para alpha (probar varias alternativas)\n",
        "alpha = 0.5 # alpha = 0.003\n",
        "num_iters = 200\n",
        "\n",
        "# inicializa theta y ejecuta el descenso por el gradiente\n",
        "theta = np.zeros(9)\n",
        "theta, J_history = gradientDescentMulti(X, y, theta, alpha, num_iters)\n",
        "\n",
        "# Grafica la convergencia del costo\n",
        "pyplot.plot(np.arange(len(J_history)), J_history, lw=2)\n",
        "pyplot.xlabel('Numero de iteraciones')\n",
        "pyplot.ylabel('Costo J')\n",
        "\n",
        "# Muestra los resultados del descenso por el gradiente\n",
        "print('theta calculado por el descenso por el gradiente: {:s}'.format(str(theta)))\n",
        "\n",
        "# Estimar el precio para una casa de 1650 sq-ft, con 3 dormitorios\n",
        "X_array = [1, 0, 2017, 0, 15944, 0, 150, 57.7, 1.0]\n",
        "X_array[1:9] = (X_array[1:9] - mu) / sigma\n",
        "price = np.dot(X_array, theta)   # Se debe cambiar esto\n",
        "\n",
        "print('El precio predecido para un auto modelo 2017 (usando el descenso por el gradiente): ${:.0f}'.format(price))\n",
        "print(f\"el mejor alpha es: {alpha}\")\n",
        "print(f\"el numero de iteraciones necesarias es: {num_iters}\")\n"
      ]
    },
    {
      "cell_type": "code",
      "execution_count": 27,
      "metadata": {
        "id": "5Bqbn4VtVn84"
      },
      "outputs": [],
      "source": [
        "X_array = [1, 0, 2017, 0, 15944, 0, 150, 57.7, 1.0]\n",
        "X_array[1:9] = (X_array[1:9] - mu) / sigma"
      ]
    },
    {
      "cell_type": "code",
      "execution_count": 28,
      "metadata": {
        "colab": {
          "base_uri": "https://localhost:8080/"
        },
        "id": "YiFRyR0DVn84",
        "outputId": "69ecc39a-6bf1-461c-82ee-013d0c5a7ea2"
      },
      "outputs": [
        {
          "data": {
            "text/plain": [
              "[1, -0.7047025660477131, 0.06512772484885097]"
            ]
          },
          "execution_count": 28,
          "metadata": {},
          "output_type": "execute_result"
        }
      ],
      "source": [
        "X_array[0:3]"
      ]
    },
    {
      "attachments": {},
      "cell_type": "markdown",
      "metadata": {
        "id": "Tq1EPGUHVn84"
      },
      "source": [
        "<a id=\"section7\"></a>\n",
        "### 2.3 Ecuacion de la Normal\n",
        "\n",
        "Una manera de calcular rapidamente el modelo de una regresion lineal es:\n",
        "\n",
        "$$ \\theta = \\left( X^T X\\right)^{-1} X^T\\vec{y}$$\n",
        "\n",
        "Utilizando esta formula no requiere que se escale ninguna caracteristica, y se obtendra una solucion exacta con un solo calculo: no hay “bucles de convergencia” como en el descenso por el gradiente. \n",
        "\n",
        "Primero se recargan los datos para garantizar que las variables no esten modificadas. Recordar que no es necesario escalar las caracteristicas, se debe agregar la columna de unos a la matriz $X$ para tener el termino de intersección($\\theta_0$). "
      ]
    },
    {
      "cell_type": "code",
      "execution_count": 29,
      "metadata": {
        "id": "5UE0T8ENVn84"
      },
      "outputs": [],
      "source": [
        "# Cargar datos\n",
        "# data = np.loadtxt(os.path.join('Datasets', 'ex1data2.txt'), delimiter=',')\n",
        "X = data[:, [0,1,3,4,5,6,7,8]]\n",
        "y = data[:, 2]\n",
        "m = y.size\n",
        "X = np.concatenate([np.ones((m, 1)), X], axis=1)"
      ]
    },
    {
      "cell_type": "code",
      "execution_count": 30,
      "metadata": {
        "id": "JQrs-6cGVn84"
      },
      "outputs": [],
      "source": [
        "def normalEqn(X, y):\n",
        "  \n",
        "    theta = np.zeros(X.shape[1])\n",
        "    \n",
        "    theta = np.dot(np.dot(np.linalg.inv(np.dot(X.T,X)),X.T),y)\n",
        "    \n",
        "    return theta"
      ]
    },
    {
      "cell_type": "code",
      "execution_count": 31,
      "metadata": {
        "id": "d0OzpOyyVn84"
      },
      "outputs": [
        {
          "name": "stdout",
          "output_type": "stream",
          "text": [
            "Theta calculado a partir de la ecuación de la normal: [-2.34570006e+06 -2.17693309e+01  1.17045943e+03 -2.51051095e+02\n",
            " -6.25081867e-02  1.70361276e+03  1.15280991e+00 -1.20460717e+02\n",
            "  3.98046555e+03]\n",
            "Precio predecido para un auto modelo 2017 es (usando la ecuación de la normal): $11323\n"
          ]
        }
      ],
      "source": [
        "# Calcula los parametros con la ecuación de la normal\n",
        "theta = normalEqn(X, y);\n",
        "\n",
        "# Muestra los resultados optenidos a partir de la aplicación de la ecuación de la normal\n",
        "print('Theta calculado a partir de la ecuación de la normal: {:s}'.format(str(theta)));\n",
        "\n",
        "# Estimar el precio para una casa de superficie de 1650 sq-ft y tres dormitorios\n",
        "\n",
        "X_array = [1, 0, 2017, 0, 15944, 0, 150, 57.7, 1.0]\n",
        "price = np.dot(X_array, theta) \n",
        "\n",
        "print('Precio predecido para un auto modelo 2017 es (usando la ecuación de la normal): ${:.0f}'.format(price))"
      ]
    }
  ],
  "metadata": {
    "colab": {
      "provenance": []
    },
    "kernelspec": {
      "display_name": "Python 3",
      "language": "python",
      "name": "python3"
    },
    "language_info": {
      "codemirror_mode": {
        "name": "ipython",
        "version": 3
      },
      "file_extension": ".py",
      "mimetype": "text/x-python",
      "name": "python",
      "nbconvert_exporter": "python",
      "pygments_lexer": "ipython3",
      "version": "3.10.9"
    }
  },
  "nbformat": 4,
  "nbformat_minor": 0
}
