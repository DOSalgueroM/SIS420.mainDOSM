{
 "cells": [
  {
   "cell_type": "code",
   "execution_count": 16,
   "metadata": {},
   "outputs": [],
   "source": [
    "# from google.colab import drive\n",
    "# drive.mount('/content/gdrive/')\n"
   ]
  },
  {
   "cell_type": "code",
   "execution_count": 17,
   "metadata": {},
   "outputs": [],
   "source": [
    "# import sys\n",
    "# sys.path.append('/content/gdrive/MyDrive/Colab Notebooks/SIS420/Busquedas')\n",
    "                 \n",
    "# from Nodos import Nodo"
   ]
  },
  {
   "cell_type": "code",
   "execution_count": 18,
   "metadata": {},
   "outputs": [],
   "source": [
    "class Nodo:\n",
    "    def __init__(self, estado, hijo=None):\n",
    "        self.estado = estado\n",
    "        self.hijo = []\n",
    "        self.padre = None\n",
    "        self.accion = None\n",
    "        self.acciones = None\n",
    "        self.costo = None\n",
    "        self.set_hijo(hijo)\n",
    "\n",
    "    def set_estado(self, estado):\n",
    "        self.estado = estado\n",
    "\n",
    "    def get_estado(self):\n",
    "        return self.estado\n",
    "\n",
    "    def set_hijo(self, hijo):\n",
    "        if (hijo is not None):\n",
    "            self.hijo.append(hijo)\n",
    "            if self.hijo is not None:\n",
    "                for s in self.hijo:\n",
    "                    s.padre = self\n",
    "\n",
    "    def get_hijo(self):\n",
    "        return self.hijo\n",
    "    \n",
    "    def set_padre(self, padre):\n",
    "        self.padre = padre\n",
    "\n",
    "    def get_padre(self):\n",
    "        return self.padre\n",
    "    \n",
    "    def set_accion(self, accion):\n",
    "        self.accion = accion\n",
    "\n",
    "    def get_accion(self):\n",
    "        return self.accion\n",
    "\n",
    "    def set_acciones(self, acciones):\n",
    "        self.acciones = acciones\n",
    "\n",
    "    def get_acciones(self):\n",
    "        return self.acciones\n",
    "\n",
    "    def set_costo(self, costo):\n",
    "        self.costo = costo\n",
    "\n",
    "    def get_costo(self):\n",
    "        return self.costo\n",
    "\n",
    "    def equal(self, Nodo):\n",
    "        if self.get_estado() == Nodo.get_estado():\n",
    "            return True\n",
    "        else:\n",
    "            return False\n",
    "\n",
    "    def en_lista(self, lista_nodos):\n",
    "        enlistado = False\n",
    "        for n in lista_nodos:\n",
    "            if self.equal(n):\n",
    "                enlistado = True\n",
    "        return enlistado\n",
    "\n",
    "    def __str__(self):\n",
    "        return str(self.get_estado())"
   ]
  },
  {
   "cell_type": "code",
   "execution_count": 19,
   "metadata": {},
   "outputs": [
    {
     "data": {
      "text/plain": [
       "'if __name__ == \"__main__\":\\n    estado_inicial = [1, 3, 2, 0, 4,6,5,7]\\n    #estado_inicial = [7, 6, 5, 4, 3, 2, 1, 0]\\n    solucion = [0, 1, 2, 3, 4,5,6,7]\\n    nodo_solucion = busqueda_BPA_solucion(estado_inicial, solucion)\\n    # mostrar resultado\\n    resultado = []\\n    nodo_actual = nodo_solucion\\n    while nodo_actual.get_padre() is not None:\\n        resultado.append(nodo_actual.get_estado())\\n        nodo_actual = nodo_actual.get_padre()\\n\\n    resultado.append(estado_inicial)\\n    resultado.reverse()\\n    print(resultado)'"
      ]
     },
     "execution_count": 19,
     "metadata": {},
     "output_type": "execute_result"
    }
   ],
   "source": [
    "def busqueda_BPA_solucion(estado_inicial, solucion):\n",
    "    resuelto = False\n",
    "    nodos_visitados = []\n",
    "    nodos_frontera = []\n",
    "\n",
    "    nodo_raiz = Nodo(estado_inicial)\n",
    "    nodos_frontera.append(nodo_raiz)\n",
    "    while (not resuelto) and len(nodos_frontera) != 0:\n",
    "        nodo_actual = nodos_frontera.pop(0)\n",
    "        # extraer nodo y añadirlo a visitados\n",
    "        nodos_visitados.append(nodo_actual)\n",
    "        if nodo_actual.get_estado() == solucion:\n",
    "            # solucion encontrada\n",
    "            resuelto = True\n",
    "            return nodo_actual\n",
    "        else:\n",
    "            #Bucle para recorrer \n",
    "            for i in range(0, len(solucion)-1):\n",
    "              elemento = solucion[i]\n",
    "              for j in range(0, len(estado_inicial)-1):\n",
    "                indice = estado_inicial.index(elemento)\n",
    "                \n",
    "                hijo_datos = nodo_actual.get_estado().copy()\n",
    "                temp = hijo_datos[indice-1]\n",
    "                hijo_datos[indice-1] = hijo_datos[indice]\n",
    "                hijo_datos[indice] = temp\n",
    "                hijo = Nodo(hijo_datos)\n",
    "                \n",
    "                if not hijo.en_lista(nodos_visitados) and not hijo.en_lista(nodos_frontera):\n",
    "                    nodo_actual.set_hijo(hijo)\n",
    "                    nodos_frontera.append(hijo)\n",
    "\n",
    "\n",
    "\"\"\"if __name__ == \"__main__\":\n",
    "    estado_inicial = [1, 3, 2, 0, 4,6,5,7]\n",
    "    #estado_inicial = [7, 6, 5, 4, 3, 2, 1, 0]\n",
    "    solucion = [0, 1, 2, 3, 4,5,6,7]\n",
    "    nodo_solucion = busqueda_BPA_solucion(estado_inicial, solucion)\n",
    "    # mostrar resultado\n",
    "    resultado = []\n",
    "    nodo_actual = nodo_solucion\n",
    "    while nodo_actual.get_padre() is not None:\n",
    "        resultado.append(nodo_actual.get_estado())\n",
    "        nodo_actual = nodo_actual.get_padre()\n",
    "\n",
    "    resultado.append(estado_inicial)\n",
    "    resultado.reverse()\n",
    "    print(resultado)\"\"\""
   ]
  },
  {
   "cell_type": "code",
   "execution_count": 20,
   "metadata": {},
   "outputs": [
    {
     "name": "stdout",
     "output_type": "stream",
     "text": [
      "Estado Inicial [5, 4, 3, 2, 1]\n",
      "Solucion [1, 2, 3, 4, 5]\n",
      "[[5, 4, 3, 2, 1], [5, 4, 3, 1, 2], [5, 4, 1, 3, 2], [5, 4, 1, 2, 3], [5, 1, 4, 2, 3], [5, 1, 2, 4, 3], [5, 1, 2, 3, 4], [1, 5, 2, 3, 4], [1, 2, 5, 3, 4], [1, 2, 3, 5, 4], [1, 2, 3, 4, 5]]\n"
     ]
    }
   ],
   "source": [
    "if __name__ == \"__main__\":\n",
    "    size = int(input(\"Ingrese la cantidad de numeros n: \"))\n",
    "    solucion = []\n",
    "    \n",
    "    for i in range(1, size+1):\n",
    "        solucion = solucion + [i]\n",
    "\n",
    "    estado_inicial = sorted(solucion, reverse=True)\n",
    "    print(\"Estado Inicial\", estado_inicial)\n",
    "    print(\"Solucion\", solucion)\n",
    "\n",
    "    nodo_solucion = busqueda_BPA_solucion(estado_inicial, solucion)\n",
    "\n",
    "    # mostrar resultado\n",
    "    resultado = []\n",
    "    nodo_actual = nodo_solucion\n",
    "    while nodo_actual.get_padre() is not None:\n",
    "        resultado.append(nodo_actual.get_estado())\n",
    "        nodo_actual = nodo_actual.get_padre()\n",
    "\n",
    "    resultado.append(estado_inicial)\n",
    "    resultado.reverse()\n",
    "    print(resultado)\n",
    "    "
   ]
  }
 ],
 "metadata": {
  "kernelspec": {
   "display_name": "Python 3",
   "language": "python",
   "name": "python3"
  },
  "language_info": {
   "codemirror_mode": {
    "name": "ipython",
    "version": 3
   },
   "file_extension": ".py",
   "mimetype": "text/x-python",
   "name": "python",
   "nbconvert_exporter": "python",
   "pygments_lexer": "ipython3",
   "version": "3.11.2"
  },
  "orig_nbformat": 4
 },
 "nbformat": 4,
 "nbformat_minor": 2
}
