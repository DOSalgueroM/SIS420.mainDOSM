{
  "cells": [
    {
      "attachments": {},
      "cell_type": "markdown",
      "metadata": {
        "id": "fxYd72KmVn8x"
      },
      "source": [
        "# Ejercicio de programación Regresión Lineal Multiple"
      ]
    },
    {
      "cell_type": "code",
      "execution_count": 313,
      "metadata": {
        "id": "-NQwq_hsVn80"
      },
      "outputs": [],
      "source": [
        "# utilizado para manejos de directorios y rutas\n",
        "import os\n",
        "\n",
        "# Computacion vectorial y cientifica para python\n",
        "import numpy as np\n",
        "\n",
        "# Librerias para graficación (trazado de gráficos)\n",
        "from matplotlib import pyplot\n",
        "from mpl_toolkits.mplot3d import Axes3D  # Necesario para graficar superficies 3D\n",
        "\n",
        "# llama a matplotlib a embeber graficas dentro de los cuadernillos\n",
        "%matplotlib inline"
      ]
    },
    {
      "attachments": {},
      "cell_type": "markdown",
      "metadata": {
        "id": "dl4y9LL2Vn81"
      },
      "source": [
        "## 2 Regresión lineal con multiples variables\n",
        "\n",
        "Se implementa la regresion lineal multivariable para predecir el precio de las casas. El archivo `Datasets/ex1data2.txt` contiene un conjunto de entrenamiento de precios de casas en Portland, Oregon. La primera columna es el tamaño de la casa en metros cuadrados, la segunda columna es el numero de cuartos, y la tercera columna es el precio de la casa. \n",
        "\n",
        "<a id=\"section4\"></a>\n",
        "### 2.1 Normalización de caracteristicas\n",
        "\n",
        "Al visualizar los datos se puede observar que las caracteristicas tienen diferentes magnitudes, por lo cual se debe transformar cada valor en una escala de valores similares, esto con el fin de que el descenso por el gradiente pueda converger mas rapidamente."
      ]
    },
    {
      "cell_type": "code",
      "execution_count": 314,
      "metadata": {},
      "outputs": [],
      "source": [
        "import pandas as pd"
      ]
    },
    {
      "cell_type": "code",
      "execution_count": 315,
      "metadata": {},
      "outputs": [
        {
          "name": "stdout",
          "output_type": "stream",
          "text": [
            "      model    year    price  transmission  mileage  fuelType    tax   mpg  \\\n",
            "0       0.0  2017.0  12000.0           0.0  15944.0       0.0  150.0  57.7   \n",
            "1       1.0  2018.0  14000.0           1.0   9083.0       0.0  150.0  57.7   \n",
            "2       1.0  2017.0  13000.0           1.0  12456.0       0.0  150.0  57.7   \n",
            "3       0.0  2019.0  17500.0           1.0  10460.0       0.0  145.0  40.3   \n",
            "4       0.0  2019.0  16500.0           0.0   1482.0       0.0  145.0  48.7   \n",
            "...     ...     ...      ...           ...      ...       ...    ...   ...   \n",
            "9995   10.0  2017.0  18200.0           1.0  30925.0       0.0  145.0  64.2   \n",
            "9996    0.0  2017.0   8997.0           1.0  26052.0       1.0   20.0  74.3   \n",
            "9997    0.0  2014.0   7250.0           1.0  10762.0       0.0  145.0  54.3   \n",
            "9998    1.0  2017.0   9000.0           1.0  53000.0       1.0  145.0  58.9   \n",
            "9999    3.0  2018.0  10270.0           1.0  53702.0       0.0  145.0  58.9   \n",
            "\n",
            "      engineSize  \n",
            "0            1.0  \n",
            "1            1.0  \n",
            "2            1.0  \n",
            "3            1.5  \n",
            "4            1.0  \n",
            "...          ...  \n",
            "9995         1.2  \n",
            "9996         2.0  \n",
            "9997         1.1  \n",
            "9998         1.5  \n",
            "9999         1.5  \n",
            "\n",
            "[27966 rows x 9 columns]\n"
          ]
        }
      ],
      "source": [
        "import pandas as pd\n",
        "import numpy as np\n",
        "\n",
        "#Funcion para la adaptacion de los datos\n",
        "def csvAdapted(dataset, modifyColumns, dropColumns):\n",
        "    data = pd.read_csv(dataset, encoding='latin-1')\n",
        "    columns = data.columns\n",
        "    \n",
        "    for index in modifyColumns:\n",
        "        name = columns[index]\n",
        "        value = list( data[name].unique() )\n",
        "        data[name] = data[name].map( dict( zip( value,  [i for i in range( len(value) ) ] ) ) )\n",
        "\n",
        "    data = data.drop([columns[index] for index in dropColumns ], axis=1)\n",
        "\n",
        "    # print(data.head())\n",
        "\n",
        "    return data\n",
        "\n",
        "# def DatosSinteticos(data):\n",
        "#     n_filas = 10000\n",
        "#     nuevos_datos = np.random.rand(n_filas, len(data.columns))\n",
        "#     # Concatenar los datos originales con los nuevos datos\n",
        "#     dataExtend = pd.concat([data, pd.DataFrame(nuevos_datos, columns=data.columns)], axis=0)\n",
        "#     return dataExtend.to_numpy()\n",
        "\n",
        "\n",
        "#Funcion para los datos sinteticos\n",
        "def DatosSinteticos(data):\n",
        "    n_filas = 10000\n",
        "    nuevos_datos = np.empty([n_filas, len(data.columns)])\n",
        "\n",
        "    for i in range(len(data.columns)):\n",
        "        columna_i = data.iloc[:, i]\n",
        "        muestras_i = np.random.choice(columna_i, n_filas, replace=True)\n",
        "        nuevos_datos[:, i] = muestras_i\n",
        "\n",
        "    # Crear un DataFrame con los nuevos datos sintéticos\n",
        "    columnas = list(data.columns)\n",
        "    nuevos_datos_df = pd.DataFrame(nuevos_datos, columns=columnas)\n",
        "\n",
        "    # Concatenar los datos existentes con los nuevos datos sintéticos\n",
        "    dataExtend = pd.concat([data, nuevos_datos_df], axis=0)\n",
        "    print(dataExtend)\n",
        "    return dataExtend.to_numpy()\n",
        "\n",
        "data = csvAdapted(\"datasets/ford.csv\", [i for i in range(0, 8) if not i in [1, 2, 4, 6, 7, 8] ], [])\n",
        "data = DatosSinteticos(data)"
      ]
    },
    {
      "cell_type": "code",
      "execution_count": 316,
      "metadata": {
        "colab": {
          "base_uri": "https://localhost:8080/"
        },
        "id": "IzvXlXHMVn81",
        "outputId": "437c6a2a-a799-4737-95ef-a322d277a217"
      },
      "outputs": [
        {
          "name": "stdout",
          "output_type": "stream",
          "text": [
            "[[0.000e+00 2.017e+03 1.200e+04 ... 1.500e+02 5.770e+01 1.000e+00]\n",
            " [1.000e+00 2.018e+03 1.400e+04 ... 1.500e+02 5.770e+01 1.000e+00]\n",
            " [1.000e+00 2.017e+03 1.300e+04 ... 1.500e+02 5.770e+01 1.000e+00]\n",
            " ...\n",
            " [0.000e+00 2.014e+03 7.250e+03 ... 1.450e+02 5.430e+01 1.100e+00]\n",
            " [1.000e+00 2.017e+03 9.000e+03 ... 1.450e+02 5.890e+01 1.500e+00]\n",
            " [3.000e+00 2.018e+03 1.027e+04 ... 1.450e+02 5.890e+01 1.500e+00]]\n"
          ]
        }
      ],
      "source": [
        "# Cargar datos\n",
        "# data = np.loadtxt(os.path.join('Datasets', 'ex1data2.txt'), delimiter=',')\n",
        "#data = np.loadtxt('./ex1data2.txt', delimiter=',')\n",
        "# data = pd.read_csv('datasets/fordExtend2.csv', encoding='latin-1')\n",
        "print (data)\n",
        "X = data[:, [0,1,3,4,5,6,7,8]]\n",
        "y = data[:, 2]\n",
        "m = y.size\n",
        "\n",
        "# imprimir algunos puntos de datos\n",
        "# print('{:>8s}{:>8s}{:>10s}'.format('X[:,0]', 'X[:, 1]', 'y'))\n",
        "# print('-'*26)\n",
        "# for i in range(10):\n",
        "#     print('{:8.0f}{:8.0f}{:10.0f}'.format(X[i, 0], X[i, 1], y[i]))"
      ]
    },
    {
      "attachments": {},
      "cell_type": "markdown",
      "metadata": {
        "id": "pP-oF-Y8W3zp"
      },
      "source": [
        "## 2 Regresión lineal con multiples variables\n",
        "\n",
        "Se implementa la regresion lineal multivariable para predecir el precio de las casas. El archivo `Datasets/ex1data2.txt` contiene un conjunto de entrenamiento de precios de casas en Portland, Oregon. La primera columna es el tamaño de la casa en metros cuadrados, la segunda columna es el numero de cuartos, y la tercera columna es el precio de la casa. \n",
        "\n",
        "<a id=\"section4\"></a>\n",
        "### 2.1 Normalización de caracteristicas\n",
        "\n",
        "Al visualizar los datos se puede observar que las caracteristicas tienen diferentes magnitudes, por lo cual se debe transformar cada valor en una escala de valores similares, esto con el fin de que el descenso por el gradiente pueda converger mas rapidamente."
      ]
    },
    {
      "attachments": {},
      "cell_type": "markdown",
      "metadata": {
        "id": "Lr8JRNkyVn82"
      },
      "source": [
        "La desviación estándar es una forma de medir cuánta variación hay en el rango de valores de una característica en particular (la mayoría de los puntos caeran en un rango de ± 2 en relación a la desviaciones estándar de la media); esta es una alternativa a tomar el rango de valores (max-min). En `numpy`, se puede usar la función `std` para calcular la desviacion estandar. \n",
        "\n",
        "Por ejemplo, la caracteristica`X[:, 0]` contiene todos los valores de $x_1$ (tamaño de las casas) en el conjunto de entrenamiento, entonces `np.std(X[:, 0])` calcula la desviacion estandar de los tamaños de las casas.\n",
        "En el momento en que se llama a la función `featureNormalize`, la columna adicional de unos correspondiente a $ x_0 = 1 $ aún no se ha agregado a $ X $. \n",
        "\n",
        "<div class=\"alert alert-block alert-warning\">\n",
        "**Notas para la implementación:** Cuando se normalize una caracteristica, es importante almacenar los valores usados para la normalización - el valor de la media y el valor de la desviación estandar usado para los calculos. Despues de aprender los parametros del modelo, se deseara predecir los precios de casas que no se han visto antes. Dado un nuevo valor de x (area del living room y el numero de dormitorios), primero se debe normalizar x usando la media y la desviacion estandar que se empleo anteriormente en el conjunto de entrenamiento para entrenar el modelo.\n",
        "</div>\n",
        "<a id=\"featureNormalize\"></a>"
      ]
    },
    {
      "cell_type": "code",
      "execution_count": 317,
      "metadata": {
        "id": "dgT4rR9iVn82"
      },
      "outputs": [],
      "source": [
        "def  featureNormalize(X):\n",
        "    X_norm = X.copy()\n",
        "    mu = np.zeros(X.shape[1])\n",
        "    sigma = np.zeros(X.shape[1])\n",
        "\n",
        "    mu = np.mean(X, axis = 0)\n",
        "    sigma = np.std(X, axis = 0)\n",
        "    X_norm = (X - mu) / sigma\n",
        "    \n",
        "    return X_norm, mu, sigma"
      ]
    },
    {
      "cell_type": "code",
      "execution_count": 318,
      "metadata": {
        "colab": {
          "base_uri": "https://localhost:8080/"
        },
        "id": "MfiaMoWEVn82",
        "outputId": "6b209ab7-7e33-4b04-ecfc-6efcef9d9bf1"
      },
      "outputs": [
        {
          "name": "stdout",
          "output_type": "stream",
          "text": [
            "[[0.000e+00 2.017e+03 0.000e+00 ... 1.500e+02 5.770e+01 1.000e+00]\n",
            " [1.000e+00 2.018e+03 1.000e+00 ... 1.500e+02 5.770e+01 1.000e+00]\n",
            " [1.000e+00 2.017e+03 1.000e+00 ... 1.500e+02 5.770e+01 1.000e+00]\n",
            " ...\n",
            " [0.000e+00 2.014e+03 1.000e+00 ... 1.450e+02 5.430e+01 1.100e+00]\n",
            " [1.000e+00 2.017e+03 1.000e+00 ... 1.450e+02 5.890e+01 1.500e+00]\n",
            " [3.000e+00 2.018e+03 1.000e+00 ... 1.450e+02 5.890e+01 1.500e+00]]\n",
            "Media calculada: [2.61292283e+00 2.01685983e+03 9.83444182e-01 2.33429343e+04\n",
            " 3.21783594e-01 1.13022027e+02 5.79324430e+01 1.34984267e+00]\n",
            "Desviación estandar calculada: [3.68543801e+00 2.03367323e+00 3.71773452e-01 1.94990799e+04\n",
            " 4.70972062e-01 6.20292857e+01 1.01068566e+01 4.31925810e-01]\n",
            "[[-0.7089857   0.06892465 -2.64527813 ...  0.59613734 -0.02299854\n",
            "  -0.80996009]\n",
            " [-0.43764753  0.56064573  0.04453201 ...  0.59613734 -0.02299854\n",
            "  -0.80996009]\n",
            " [-0.43764753  0.06892465  0.04453201 ...  0.59613734 -0.02299854\n",
            "  -0.80996009]\n",
            " ...\n",
            " [-0.7089857  -1.4062386   0.04453201 ...  0.51553025 -0.35940383\n",
            "  -0.57843884]\n",
            " [-0.43764753  0.06892465  0.04453201 ...  0.51553025  0.09573274\n",
            "   0.34764612]\n",
            " [ 0.10502881  0.56064573  0.04453201 ...  0.51553025  0.09573274\n",
            "   0.34764612]]\n"
          ]
        }
      ],
      "source": [
        "# llama featureNormalize con los datos cargados\n",
        "X_norm, mu, sigma = featureNormalize(X)\n",
        "\n",
        "print(X)\n",
        "print('Media calculada:', mu)\n",
        "print('Desviación estandar calculada:', sigma)\n",
        "print(X_norm)"
      ]
    },
    {
      "attachments": {},
      "cell_type": "markdown",
      "metadata": {
        "id": "pDbib1JVVn82"
      },
      "source": [
        "Despues de `featureNormalize` la funcion es provada, se añade el temino de interseccion a `X_norm`:"
      ]
    },
    {
      "cell_type": "code",
      "execution_count": 319,
      "metadata": {
        "id": "qXpGaaD0Vn83"
      },
      "outputs": [],
      "source": [
        "# Añade el termino de interseccion a X\n",
        "# (Columna de unos para X0)\n",
        "X = np.concatenate([np.ones((m, 1)), X_norm], axis=1)"
      ]
    },
    {
      "cell_type": "code",
      "execution_count": 320,
      "metadata": {
        "colab": {
          "base_uri": "https://localhost:8080/"
        },
        "id": "Pzz24OdaVn83",
        "outputId": "b0b48ef2-c6e9-47f6-df19-3df239aacf49"
      },
      "outputs": [
        {
          "name": "stdout",
          "output_type": "stream",
          "text": [
            "[[ 1.         -0.7089857   0.06892465 ...  0.59613734 -0.02299854\n",
            "  -0.80996009]\n",
            " [ 1.         -0.43764753  0.56064573 ...  0.59613734 -0.02299854\n",
            "  -0.80996009]\n",
            " [ 1.         -0.43764753  0.06892465 ...  0.59613734 -0.02299854\n",
            "  -0.80996009]\n",
            " ...\n",
            " [ 1.         -0.7089857  -1.4062386  ...  0.51553025 -0.35940383\n",
            "  -0.57843884]\n",
            " [ 1.         -0.43764753  0.06892465 ...  0.51553025  0.09573274\n",
            "   0.34764612]\n",
            " [ 1.          0.10502881  0.56064573 ...  0.51553025  0.09573274\n",
            "   0.34764612]]\n"
          ]
        }
      ],
      "source": [
        "print(X)"
      ]
    },
    {
      "attachments": {},
      "cell_type": "markdown",
      "metadata": {
        "id": "V54HlIKAVn83"
      },
      "source": [
        "<a id=\"section5\"></a>\n",
        "### 2.2 Descenso por el gradiente\n",
        "\n",
        "En el ejemplo anterior se implemento el descenso por el gradiente para un problema de regresion univariable. La unica diferencia es que ahora existe una caracteristica adicional en la matriz $X$. La función de hipótesis y la regla de actualización del descenso del gradiente por lotes permanecen sin cambios.\n",
        "\n",
        "La implementacion de las funciones `computeCostMulti` y `gradientDescentMulti` son similares a la funcion de costo y función de descenso por el gradiente de la regresión lineal multiple es similar al de la regresion lineal multivariable. Es importante garantizar que el codigo soporte cualquier numero de caracteristicas y esten bien vectorizadas.\n",
        "\n",
        "Se puede utilizar `shape`, propiedad de los arrays `numpy`, para identificar cuantas caracteristicas estan consideradas en el dataset.\n",
        "\n",
        "<div class=\"alert alert-block alert-warning\">\n",
        "**Nota de implementación:** En el caso de multivariables, la función de costo puede se escrita considerando la forma vectorizada de la siguiente manera:\n",
        "\n",
        "$$ J(\\theta) = \\frac{1}{2m}(X\\theta - \\vec{y})^T(X\\theta - \\vec{y}) $$\n",
        "\n",
        "donde:\n",
        "\n",
        "$$ X = \\begin{pmatrix}\n",
        "          - (x^{(1)})^T - \\\\\n",
        "          - (x^{(2)})^T - \\\\\n",
        "          \\vdots \\\\\n",
        "          - (x^{(m)})^T - \\\\ \\\\\n",
        "        \\end{pmatrix} \\qquad \\mathbf{y} = \\begin{bmatrix} y^{(1)} \\\\ y^{(2)} \\\\ \\vdots \\\\ y^{(m)} \\\\\\end{bmatrix}$$\n",
        "\n",
        "La version vectorizada es eficiente cuando se trabaja con herramientas de calculo numericos computacional como `numpy`. \n",
        "</div>\n",
        "\n",
        "<a id=\"computeCostMulti\"></a>"
      ]
    },
    {
      "cell_type": "code",
      "execution_count": 321,
      "metadata": {
        "id": "R5xCTuCUVn83"
      },
      "outputs": [],
      "source": [
        "def computeCostMulti(X, y, theta):\n",
        "    # Inicializa algunos valores utiles\n",
        "    m = y.shape[0] # numero de ejemplos de entrenamiento\n",
        "    \n",
        "    J = 0\n",
        "    \n",
        "    h = np.dot(X, theta)\n",
        "    \n",
        "    J = (1/(2 * m)) * np.sum(np.square(np.dot(X, theta) - y))\n",
        "    \n",
        "    return J\n"
      ]
    },
    {
      "cell_type": "code",
      "execution_count": 322,
      "metadata": {
        "id": "1FbQyFHtVn83"
      },
      "outputs": [],
      "source": [
        "def gradientDescentMulti(X, y, theta, alpha, num_iters):\n",
        "    \n",
        "    # Inicializa algunos valores \n",
        "    m = y.shape[0] # numero de ejemplos de entrenamiento\n",
        "    \n",
        "    # realiza una copia de theta, el cual será acutalizada por el descenso por el gradiente\n",
        "    theta = theta.copy()\n",
        "    \n",
        "    J_history = []\n",
        "    \n",
        "    for i in range(num_iters):\n",
        "        theta = theta - (alpha / m) * (np.dot(X, theta) - y).dot(X)\n",
        "        J_history.append(computeCostMulti(X, y, theta))\n",
        "    \n",
        "    return theta, J_history"
      ]
    },
    {
      "attachments": {},
      "cell_type": "markdown",
      "metadata": {
        "id": "dJ2VxNfaVn83"
      },
      "source": [
        "#### 3.2.1 Seleccionando coheficientes de aprendizaje\n"
      ]
    },
    {
      "cell_type": "code",
      "execution_count": 323,
      "metadata": {
        "colab": {
          "base_uri": "https://localhost:8080/",
          "height": 500
        },
        "id": "K4gVCgsfVn84",
        "outputId": "fb1164ee-0e3c-45eb-ad9a-e606a6012e1e"
      },
      "outputs": [
        {
          "name": "stdout",
          "output_type": "stream",
          "text": [
            "theta calculado por el descenso por el gradiente: [12273.96792534   162.51108687  1489.95188311  -120.83449324\n",
            " -1060.35184293   550.50665692   434.70648867  -710.47119493\n",
            "  1112.50111572]\n",
            "El precio predecido para un auto modelo 2017 (usando el descenso por el gradiente): $11982\n"
          ]
        },
        {
          "data": {
            "image/png": "[encoded data removed]",
            "text/plain": [
              "<Figure size 640x480 with 1 Axes>"
            ]
          },
          "metadata": {},
          "output_type": "display_data"
        }
      ],
      "source": [
        "# Elegir algun valor para alpha (probar varias alternativas)\n",
        "alpha = 0.8 # alpha = 0.003\n",
        "num_iters = 2000\n",
        "\n",
        "# inicializa theta y ejecuta el descenso por el gradiente\n",
        "theta = np.zeros(9)\n",
        "theta, J_history = gradientDescentMulti(X, y, theta, alpha, num_iters)\n",
        "\n",
        "# Grafica la convergencia del costo\n",
        "pyplot.plot(np.arange(len(J_history)), J_history, lw=2)\n",
        "pyplot.xlabel('Numero de iteraciones')\n",
        "pyplot.ylabel('Costo J')\n",
        "\n",
        "# Muestra los resultados del descenso por el gradiente\n",
        "print('theta calculado por el descenso por el gradiente: {:s}'.format(str(theta)))\n",
        "\n",
        "# Estimar el precio para una casa de 1650 sq-ft, con 3 dormitorios\n",
        "X_array = [1, 0, 2017, 0, 15944, 0, 150, 57.7, 1.0]\n",
        "X_array[1:9] = (X_array[1:9] - mu) / sigma\n",
        "price = np.dot(X_array, theta)   # Se debe cambiar esto\n",
        "\n",
        "print('El precio predecido para un auto modelo 2017 (usando el descenso por el gradiente): ${:.0f}'.format(price))"
      ]
    },
    {
      "cell_type": "code",
      "execution_count": 324,
      "metadata": {
        "id": "5Bqbn4VtVn84"
      },
      "outputs": [],
      "source": [
        "X_array = [1, 0, 2017, 0, 15944, 0, 150, 57.7, 1.0]\n",
        "X_array[1:9] = (X_array[1:9] - mu) / sigma"
      ]
    },
    {
      "cell_type": "code",
      "execution_count": 325,
      "metadata": {
        "colab": {
          "base_uri": "https://localhost:8080/"
        },
        "id": "YiFRyR0DVn84",
        "outputId": "69ecc39a-6bf1-461c-82ee-013d0c5a7ea2"
      },
      "outputs": [
        {
          "data": {
            "text/plain": [
              "[1, -0.7089856966342702, 0.06892464552173624]"
            ]
          },
          "execution_count": 325,
          "metadata": {},
          "output_type": "execute_result"
        }
      ],
      "source": [
        "X_array[0:3]"
      ]
    },
    {
      "attachments": {},
      "cell_type": "markdown",
      "metadata": {
        "id": "Tq1EPGUHVn84"
      },
      "source": [
        "<a id=\"section7\"></a>\n",
        "### 2.3 Ecuacion de la Normal\n",
        "\n",
        "Una manera de calcular rapidamente el modelo de una regresion lineal es:\n",
        "\n",
        "$$ \\theta = \\left( X^T X\\right)^{-1} X^T\\vec{y}$$\n",
        "\n",
        "Utilizando esta formula no requiere que se escale ninguna caracteristica, y se obtendra una solucion exacta con un solo calculo: no hay “bucles de convergencia” como en el descenso por el gradiente. \n",
        "\n",
        "Primero se recargan los datos para garantizar que las variables no esten modificadas. Recordar que no es necesario escalar las caracteristicas, se debe agregar la columna de unos a la matriz $X$ para tener el termino de intersección($\\theta_0$). "
      ]
    },
    {
      "cell_type": "code",
      "execution_count": 326,
      "metadata": {
        "id": "5UE0T8ENVn84"
      },
      "outputs": [],
      "source": [
        "# Cargar datos\n",
        "# data = np.loadtxt(os.path.join('Datasets', 'ex1data2.txt'), delimiter=',')\n",
        "X = data[:, [0,1,3,4,5,6,7,8]]\n",
        "y = data[:, 2]\n",
        "m = y.size\n",
        "X = np.concatenate([np.ones((m, 1)), X], axis=1)"
      ]
    },
    {
      "cell_type": "code",
      "execution_count": 327,
      "metadata": {
        "id": "JQrs-6cGVn84"
      },
      "outputs": [],
      "source": [
        "def normalEqn(X, y):\n",
        "  \n",
        "    theta = np.zeros(X.shape[1])\n",
        "    \n",
        "    theta = np.dot(np.dot(np.linalg.inv(np.dot(X.T,X)),X.T),y)\n",
        "    \n",
        "    return theta"
      ]
    },
    {
      "cell_type": "code",
      "execution_count": 328,
      "metadata": {
        "id": "d0OzpOyyVn84"
      },
      "outputs": [
        {
          "name": "stdout",
          "output_type": "stream",
          "text": [
            "Theta calculado a partir de la ecuación de la normal: [-1.46445846e+06  4.40954607e+01  7.32640750e+02 -3.25021845e+02\n",
            " -5.43795834e-02  1.16887328e+03  7.00808471e+00 -7.02959608e+01\n",
            "  2.57567640e+03]\n",
            "Precio predecido para un auto modelo 2017 es (usando la ecuación de la normal): $11982\n"
          ]
        }
      ],
      "source": [
        "# Calcula los parametros con la ecuación de la normal\n",
        "theta = normalEqn(X, y);\n",
        "\n",
        "# Muestra los resultados optenidos a partir de la aplicación de la ecuación de la normal\n",
        "print('Theta calculado a partir de la ecuación de la normal: {:s}'.format(str(theta)));\n",
        "\n",
        "# Estimar el precio para una casa de superficie de 1650 sq-ft y tres dormitorios\n",
        "\n",
        "X_array = [1, 0, 2017, 0, 15944, 0, 150, 57.7, 1.0]\n",
        "price = np.dot(X_array, theta) \n",
        "\n",
        "print('Precio predecido para un auto modelo 2017 es (usando la ecuación de la normal): ${:.0f}'.format(price))"
      ]
    }
  ],
  "metadata": {
    "colab": {
      "provenance": []
    },
    "kernelspec": {
      "display_name": "Python 3",
      "language": "python",
      "name": "python3"
    },
    "language_info": {
      "codemirror_mode": {
        "name": "ipython",
        "version": 3
      },
      "file_extension": ".py",
      "mimetype": "text/x-python",
      "name": "python",
      "nbconvert_exporter": "python",
      "pygments_lexer": "ipython3",
      "version": "3.10.9"
    }
  },
  "nbformat": 4,
  "nbformat_minor": 0
}
